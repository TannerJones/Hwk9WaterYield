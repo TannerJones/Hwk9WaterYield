{
 "metadata": {
  "name": "",
  "signature": "sha256:d0ff36ad18b579113d10b4f98cbc727becdbdbef960e916774f4288dfb75f589"
 },
 "nbformat": 3,
 "nbformat_minor": 0,
 "worksheets": [
  {
   "cells": [
    {
     "cell_type": "code",
     "collapsed": false,
     "input": [],
     "language": "python",
     "metadata": {},
     "outputs": []
    }
   ],
   "metadata": {}
  }
 ]
}