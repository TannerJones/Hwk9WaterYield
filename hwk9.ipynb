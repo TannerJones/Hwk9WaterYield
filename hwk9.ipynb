{
 "metadata": {
  "name": "",
  "signature": "sha256:8a1f0dffea569c803f1eb66db7c3e790b86d98bcac53d34a2310795dbf68e9dc"
 },
 "nbformat": 3,
 "nbformat_minor": 0,
 "worksheets": [
  {
   "cells": [
    {
     "cell_type": "heading",
     "level": 1,
     "metadata": {},
     "source": [
      "NatCap  WaterYield"
     ]
    },
    {
     "cell_type": "heading",
     "level": 2,
     "metadata": {},
     "source": [
      "Section 1:"
     ]
    },
    {
     "cell_type": "raw",
     "metadata": {},
     "source": [
      "\n",
      "Summary:\n",
      "\n",
      "The model is the Water Yield model. This is used to estimate annual average quantity and value of hydropower. Hydropower produces 20% of the world\u2019s energy. It also identifies how much water yield and value landscapes add to production.  There are three components to this model: water yield, water consumption, and hydropower valuation.\n",
      " \n",
      "Introduction:\n",
      "The value of fresh water has a huge impact on society including the most used form of renewable energy in hydropower production. The models look at the hydropower production from watershed-fed reservoirs and calculates differences and predictions based on varying factors such as land use and land cover change, evapotranspiration, infiltration and water retention and hydrologic cycles.  These changes affect the water yield and are calculated in the model. The calculated values for water yield can have significant impacts on the economy helping to calculate and predict values for stakeholders and consumers. \n",
      " \n",
      " \n",
      "The Model:\n",
      "There are three models that are used: 1) the water yield model, 2) the realized supply model, and 3) the hydropower production and valuation model. The first model determines the water yield per pixel by using the annual actual evapotranspiration per pixel and the precipitation per pixel. The second model determines the amount of water that flows into a reservoir. Water yield and water consumption are used for the realized supply model The input is based off of the land use and land cover type with the resulting water consumption. Each pixel in the watershed is either a contributing pixel or a use pixel. The third model helps determine that amount of power that is produced based on the amount of water present and determines the dollar value for that energy. for the lifetime of the reservoir as we as the current dollar value for the reservoir.  The value and energy is evaluted with theh landscape to  make output maps showing hydropower value and energy it  makes for the lifetime of watershed yeilds. Hydropower production model uses the previously mentioned water yield model and converts inflow volume to a per second rate and multiplying the kilowatt-hours with the hours in a year to produce the max electricity as the energy production rating\n",
      "\n"
     ]
    },
    {
     "cell_type": "heading",
     "level": 2,
     "metadata": {},
     "source": [
      "Section 2:"
     ]
    },
    {
     "cell_type": "raw",
     "metadata": {},
     "source": [
      "Data Needs:\n",
      "Of the 11 requested fields 10 are required for the program to successfully run. The fields are: root restricting layer depth, precipitation, plant available water content, average annual reference evapotranspiration, land use/land cover, watersheds, subwatersheds, biophysical table, z parameter, and demand table. The first five on the list are all of the raster datasets required. They measure how much water is going into, coming out of, and being retained in the soil. The watersheds and subwatersheds are polygons that represent the exact location of where and how the water is retained and moves about in the region. The biophysical and demand tables are charts that explain the categories and attributes of the land use/land cover raster dataset. Lastly, the Z parameter measures how much water is expected to fall and be retained in the region in question and places in on a scale from 1 to 30. The Z parameter has been found in two distinct ways, the simpler is multiplying 0.2 and the number of rain events per year. and it could be an accurate depiction of the Z parameter."
     ]
    },
    {
     "cell_type": "raw",
     "metadata": {},
     "source": [
      "Pseudo code data preperation\n",
      "\n",
      "Import arcInVest\n",
      "Import arcpy\n",
      "# Declare a workspace that contains all 11 of the needed files\n",
      "Import the workspace\n",
      "# Declare separate feature classes for each file then check to make sure they are all in the    # correct projection and units\n",
      "List all feature classes to empty list \u201cfclist\u201d\n",
      "List all rasters to empty list \u201crasterlist\u201d\n",
      "List all tables to empty list \u201ctablelist\u201d\n",
      "FOR every table in tablelist\n",
      "    RUN ValidateTableName function\n",
      "END FOR\n",
      "FOR every non-table-file of inputs\n",
      "    SET non-table-file for describe\n",
      "    IF non-table-file has projection AND units == meters THEN\n",
      "        # Checks the rasters to make sure they have the appropriate name\n",
      "        Check ValidateFieldName\n",
      "    ELSE\n",
      "        PRINT user there is an error\n",
      "    ENDIF\n",
      "END FOR\n"
     ]
    },
    {
     "cell_type": "raw",
     "metadata": {},
     "source": [
      "Pseudo code file structure\n",
      "Data\n",
      "    rasters\n",
      "        Root restricting layer\n",
      "        Precipitation\n",
      "        Plant Available Water Content\n",
      "        Average Annual Reference Evapotranspiration\n",
      "        Land use/land cover\n",
      "    shapefiles\n",
      "        Watershed\n",
      "        subwatershed\n",
      "        studyArea\n",
      "    tables\n",
      "        Biophysical Table\n",
      "        Demand Table\n",
      "        Hydropower valuation table (optional)\n",
      "    output \n",
      "        rasterOutput\n",
      "        shapefileOutput\n",
      "\n",
      "Psuedocode:\n",
      "import arcpy\n",
      "import environment\n",
      "set workspace\n",
      "\n",
      "Read rasters into rasterList\n",
      "Read shapefile into shpList\n",
      "Read tables into tableList\n",
      "read in study area shapefile\n",
      "SET shpprj to projection of study area using describe\n",
      "\n",
      "IF rasterOutput does not exist \n",
      "    create the rasterOutput folder\n",
      "END IF\n",
      "\n",
      "IF shapefileOutput does not exist\n",
      "    create shapefileOutput folder\n",
      "END IF\n",
      "\n",
      "FOR every raster in rasterList\n",
      "    IF projection of raster <> projection of study area\n",
      "SET projection to shpprf\n",
      "Clip raster to study area \n",
      "        Save raster to rasterOutput\n",
      "    END IF\n",
      "END FOR\n",
      "\n",
      "FOR every shapefile in shpList\n",
      "    IF projection of shapefile <> projection of study area\n",
      "        SET projection to shpprj\n",
      "        Clip to study study area\n",
      "        Save shapefile to shapefileOutput\n",
      "    END IF\n",
      "END FOR\n"
     ]
    },
    {
     "cell_type": "heading",
     "level": 6,
     "metadata": {},
     "source": [
      "Source: \n",
      "\"Water Yield: Reservoir Hydropower Production.\" \u2014 InVEST Documentation. http://ncp-dev.stanford.edu/~dataportal/invest-releases/documentation/current_release/reservoirhydropowerproduction.html."
     ]
    },
    {
     "cell_type": "markdown",
     "metadata": {},
     "source": [
      "print \"Done\""
     ]
    }
   ],
   "metadata": {}
  }
 ]
}