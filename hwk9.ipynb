{
 "metadata": {
  "name": "",
  "signature": "sha256:805d485303e16feb0d7e649fe9de49cde6b8ab9a449e9751a65d43e41b3b0e2a"
 },
 "nbformat": 3,
 "nbformat_minor": 0,
 "worksheets": [
  {
   "cells": [
    {
     "cell_type": "code",
     "collapsed": false,
     "input": [
      "print \"This is weird, and hard to understand\""
     ],
     "language": "python",
     "metadata": {},
     "outputs": [
      {
       "output_type": "stream",
       "stream": "stdout",
       "text": [
        "This is weird, and hard to understand\n"
       ]
      }
     ],
     "prompt_number": 2
    },
    {
     "cell_type": "heading",
     "level": 6,
     "metadata": {},
     "source": [
      "Section 1:\n",
      "\n",
      "Summary:\n",
      "The model is the Water Yield model. This is used to measure how much hydropower is produced. Hydropower produces 20% of the world\u2019s energy. There are three components to this model: water yield, water consumption, and hydropower valuation.\n",
      " \n",
      "Introduction:\n",
      " \n",
      " \n",
      "The Model:\n",
      "There are three models that are used: 1) the water yield model, 2) the realized supply model, and 3) the hydropower production and valuation model. The first model determines the water yield per pixel by using the annual actual evapotranspiration per pixel and the precipitation per pixel. The second model determines the amount of water that flows into a reservoir. Water yield and water consumption are used. The third model helps determine that amount of power that is produced based on the amount of water present and determines the dollar value for that energy. \n"
     ]
    },
    {
     "cell_type": "heading",
     "level": 6,
     "metadata": {},
     "source": []
    },
    {
     "cell_type": "code",
     "collapsed": false,
     "input": [],
     "language": "python",
     "metadata": {},
     "outputs": []
    }
   ],
   "metadata": {}
  }
 ]
}