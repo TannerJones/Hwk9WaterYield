{
 "metadata": {
  "name": "",
  "signature": "sha256:bd2110bce2cb092300266dd6132b7d6c9fcf06daf688ec096e99a0013b11efaa"
 },
 "nbformat": 3,
 "nbformat_minor": 0,
 "worksheets": [
  {
   "cells": [
    {
     "cell_type": "heading",
     "level": 1,
     "metadata": {},
     "source": [
      "NatCap  WaterYield"
     ]
    },
    {
     "cell_type": "heading",
     "level": 2,
     "metadata": {},
     "source": [
      "Section 1:"
     ]
    },
    {
     "cell_type": "heading",
     "level": 6,
     "metadata": {},
     "source": [
      "\n",
      "Summary:\n",
      "\n",
      "The model is the Water Yield model. This is used to estimate annual average quantity and value of hydropower. Hydropower produces 20% of the world\u2019s energy. It also identifies how much water yield and value landscapes add to production.  There are three components to this model: water yield, water consumption, and hydropower valuation.\n",
      " \n",
      "Introduction:\n",
      "The value of fresh water has a huge impact on society including the most used form of renewable energy in hydropower production. The models look at the hydropower production from watershed-fed reservoirs and calculates differences and predictions based on varying factors such as land use and land cover change, evapotranspiration, infiltration and water retention and hydrologic cycles.  These changes affect the water yield and are calculated in the model. The calculated values for water yield can have significant impacts on the economy helping to calculate and predict values for stakeholders and consumers. \n",
      " \n",
      " \n",
      "The Model:\n",
      "There are three models that are used: 1) the water yield model, 2) the realized supply model, and 3) the hydropower production and valuation model. The first model determines the water yield per pixel by using the annual actual evapotranspiration per pixel and the precipitation per pixel. The second model determines the amount of water that flows into a reservoir. Water yield and water consumption are used for the realized supply model The input is based off of the land use and land cover type with the resulting water consumption. Each pixel in the watershed is either a contributing pixel or a use pixel. The third model helps determine that amount of power that is produced based on the amount of water present and determines the dollar value for that energy. for the lifetime of the reservoir as we as the current dollar value for the reservoir.  The value and energy is evaluted with theh landscape to  make output maps showing hydropower value and energy it  makes for the lifetime of watershed yeilds. Hydropower production model uses the previously mentioned water yield model and converts inflow volume to a per second rate and multiplying the kilowatt-hours with the hours in a year to produce the max electricity as the energy production rating\n",
      "\n"
     ]
    },
    {
     "cell_type": "code",
     "collapsed": false,
     "input": [
      "print \"This is weird\""
     ],
     "language": "python",
     "metadata": {},
     "outputs": [
      {
       "output_type": "stream",
       "stream": "stdout",
       "text": [
        "This is weird\n"
       ]
      }
     ],
     "prompt_number": 2
    },
    {
     "cell_type": "code",
     "collapsed": false,
     "input": [],
     "language": "python",
     "metadata": {},
     "outputs": []
    }
   ],
   "metadata": {}
  }
 ]
}